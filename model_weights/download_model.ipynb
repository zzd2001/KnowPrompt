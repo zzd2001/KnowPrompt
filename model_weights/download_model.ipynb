{
 "cells": [
  {
   "cell_type": "code",
   "execution_count": 1,
   "metadata": {},
   "outputs": [
    {
     "name": "stderr",
     "output_type": "stream",
     "text": [
      "Traceback (most recent call last):\n",
      "  File \"/root/.conda/envs/knowprompt/lib/python3.8/site-packages/urllib3/connectionpool.py\", line 775, in urlopen\n",
      "    self._prepare_proxy(conn)\n",
      "  File \"/root/.conda/envs/knowprompt/lib/python3.8/site-packages/urllib3/connectionpool.py\", line 1044, in _prepare_proxy\n",
      "    conn.connect()\n",
      "  File \"/root/.conda/envs/knowprompt/lib/python3.8/site-packages/urllib3/connection.py\", line 632, in connect\n",
      "    self._tunnel()  # type: ignore[attr-defined]\n",
      "  File \"/root/.conda/envs/knowprompt/lib/python3.8/http/client.py\", line 905, in _tunnel\n",
      "    raise OSError(\"Tunnel connection failed: %d %s\" % (code,\n",
      "OSError: Tunnel connection failed: 503 Service Unavailable\n",
      "\n",
      "The above exception was the direct cause of the following exception:\n",
      "\n",
      "urllib3.exceptions.ProxyError: ('Unable to connect to proxy', OSError('Tunnel connection failed: 503 Service Unavailable'))\n",
      "\n",
      "The above exception was the direct cause of the following exception:\n",
      "\n",
      "Traceback (most recent call last):\n",
      "  File \"/root/.conda/envs/knowprompt/lib/python3.8/site-packages/requests/adapters.py\", line 667, in send\n",
      "    resp = conn.urlopen(\n",
      "  File \"/root/.conda/envs/knowprompt/lib/python3.8/site-packages/urllib3/connectionpool.py\", line 843, in urlopen\n",
      "    retries = retries.increment(\n",
      "  File \"/root/.conda/envs/knowprompt/lib/python3.8/site-packages/urllib3/util/retry.py\", line 519, in increment\n",
      "    raise MaxRetryError(_pool, url, reason) from reason  # type: ignore[arg-type]\n",
      "urllib3.exceptions.MaxRetryError: HTTPSConnectionPool(host='huggingface.co', port=443): Max retries exceeded with url: /api/models/FacebookAI/roberta-large/revision/main (Caused by ProxyError('Unable to connect to proxy', OSError('Tunnel connection failed: 503 Service Unavailable')))\n",
      "\n",
      "During handling of the above exception, another exception occurred:\n",
      "\n",
      "Traceback (most recent call last):\n",
      "  File \"/root/.conda/envs/knowprompt/bin/huggingface-cli\", line 8, in <module>\n",
      "    sys.exit(main())\n",
      "  File \"/root/.conda/envs/knowprompt/lib/python3.8/site-packages/huggingface_hub/commands/huggingface_cli.py\", line 52, in main\n",
      "    service.run()\n",
      "  File \"/root/.conda/envs/knowprompt/lib/python3.8/site-packages/huggingface_hub/commands/download.py\", line 146, in run\n",
      "    print(self._download())  # Print path to downloaded files\n",
      "  File \"/root/.conda/envs/knowprompt/lib/python3.8/site-packages/huggingface_hub/commands/download.py\", line 180, in _download\n",
      "    return snapshot_download(\n",
      "  File \"/root/.conda/envs/knowprompt/lib/python3.8/site-packages/huggingface_hub/utils/_validators.py\", line 114, in _inner_fn\n",
      "    return fn(*args, **kwargs)\n",
      "  File \"/root/.conda/envs/knowprompt/lib/python3.8/site-packages/huggingface_hub/_snapshot_download.py\", line 169, in snapshot_download\n",
      "    repo_info = api.repo_info(repo_id=repo_id, repo_type=repo_type, revision=revision, token=token)\n",
      "  File \"/root/.conda/envs/knowprompt/lib/python3.8/site-packages/huggingface_hub/utils/_validators.py\", line 114, in _inner_fn\n",
      "    return fn(*args, **kwargs)\n",
      "  File \"/root/.conda/envs/knowprompt/lib/python3.8/site-packages/huggingface_hub/hf_api.py\", line 2588, in repo_info\n",
      "    return method(\n",
      "  File \"/root/.conda/envs/knowprompt/lib/python3.8/site-packages/huggingface_hub/utils/_validators.py\", line 114, in _inner_fn\n",
      "    return fn(*args, **kwargs)\n",
      "  File \"/root/.conda/envs/knowprompt/lib/python3.8/site-packages/huggingface_hub/hf_api.py\", line 2372, in model_info\n",
      "    r = get_session().get(path, headers=headers, timeout=timeout, params=params)\n",
      "  File \"/root/.conda/envs/knowprompt/lib/python3.8/site-packages/requests/sessions.py\", line 602, in get\n",
      "    return self.request(\"GET\", url, **kwargs)\n",
      "  File \"/root/.conda/envs/knowprompt/lib/python3.8/site-packages/requests/sessions.py\", line 589, in request\n",
      "    resp = self.send(prep, **send_kwargs)\n",
      "  File \"/root/.conda/envs/knowprompt/lib/python3.8/site-packages/requests/sessions.py\", line 703, in send\n",
      "    r = adapter.send(request, **kwargs)\n",
      "  File \"/root/.conda/envs/knowprompt/lib/python3.8/site-packages/huggingface_hub/utils/_http.py\", line 66, in send\n",
      "    return super().send(request, *args, **kwargs)\n",
      "  File \"/root/.conda/envs/knowprompt/lib/python3.8/site-packages/requests/adapters.py\", line 694, in send\n",
      "    raise ProxyError(e, request=request)\n",
      "requests.exceptions.ProxyError: (MaxRetryError(\"HTTPSConnectionPool(host='huggingface.co', port=443): Max retries exceeded with url: /api/models/FacebookAI/roberta-large/revision/main (Caused by ProxyError('Unable to connect to proxy', OSError('Tunnel connection failed: 503 Service Unavailable')))\"), '(Request ID: c57f9fcf-cc3a-4e36-aab1-7fdffd0c6b2e)')\n"
     ]
    },
    {
     "data": {
      "text/plain": [
       "256"
      ]
     },
     "execution_count": 1,
     "metadata": {},
     "output_type": "execute_result"
    }
   ],
   "source": [
    "import os\n",
    "# 下载模型\n",
    "# os.system('huggingface-cli download --resume-download google-bert/bert-large-cased --local-dir ./PT_MODELS/bert-large-cased/')\n",
    "os.system('huggingface-cli download --resume-download FacebookAI/roberta-large --local-dir ./PT_MODELS/roberta-large/')"
   ]
  },
  {
   "cell_type": "code",
   "execution_count": null,
   "metadata": {},
   "outputs": [],
   "source": []
  }
 ],
 "metadata": {
  "kernelspec": {
   "display_name": "knowprompt",
   "language": "python",
   "name": "python3"
  },
  "language_info": {
   "codemirror_mode": {
    "name": "ipython",
    "version": 3
   },
   "file_extension": ".py",
   "mimetype": "text/x-python",
   "name": "python",
   "nbconvert_exporter": "python",
   "pygments_lexer": "ipython3",
   "version": "3.8.19"
  }
 },
 "nbformat": 4,
 "nbformat_minor": 2
}
